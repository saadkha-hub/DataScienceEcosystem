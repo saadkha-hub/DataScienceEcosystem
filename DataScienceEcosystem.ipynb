{
 "cells": [
  {
   "cell_type": "code",
   "execution_count": 1,
   "id": "0a01bbe7-0243-438b-9e99-78ffa65b7b04",
   "metadata": {
    "tags": []
   },
   "outputs": [
    {
     "name": "stdout",
     "output_type": "stream",
     "text": [
      "Hello, Jupyter Lite!\n"
     ]
    }
   ],
   "source": [
    "print(\"Hello, Jupyter Lite!\")"
   ]
  },
  {
   "cell_type": "markdown",
   "id": "92e04a2e-18a4-4dfa-a25c-d2e4d7404965",
   "metadata": {},
   "source": [
    "Data Science Tools and Ecosystem"
   ]
  },
  {
   "cell_type": "markdown",
   "id": "a962dfb8-9cef-455e-ba92-602d21634623",
   "metadata": {
    "tags": []
   },
   "source": [
    "In this notebook, Data Science Tools and Ecosystem are summarized."
   ]
  },
  {
   "cell_type": "markdown",
   "id": "a0c287d7-e6d6-4955-8ba2-f6ff2515a0b2",
   "metadata": {},
   "source": [
    "Some of the popular languages that Data Scientists use are:\n"
   ]
  },
  {
   "cell_type": "markdown",
   "id": "370b3a55-49aa-4dc3-87df-410dcb2f96ff",
   "metadata": {},
   "source": [
    "1. Python\n",
    "2. R\n",
    "3. Julia\n"
   ]
  },
  {
   "cell_type": "markdown",
   "id": "62537772-5072-4cd9-b2eb-73807ebc5e95",
   "metadata": {},
   "source": [
    "Some of the commonly used libraries used by Data Scientists include:"
   ]
  },
  {
   "cell_type": "markdown",
   "id": "803a1464-3676-4dbb-a1ab-513cd9416d5d",
   "metadata": {},
   "source": [
    "1. pandas\n",
    "2. numpy\n",
    "3. scikit-learn\n"
   ]
  },
  {
   "cell_type": "markdown",
   "id": "b51e1b02-20c8-471b-9937-2ff52bf3ae7e",
   "metadata": {},
   "source": [
    "| Data Science Tools |\n",
    "| ------------------ |\n",
    "| Jupyter Notebook   |\n",
    "| VS Code            |\n",
    "| RStudio            |\n"
   ]
  },
  {
   "cell_type": "markdown",
   "id": "896902ab-1824-493a-9fd5-e867f35aa65d",
   "metadata": {},
   "source": [
    "### Below are a few examples of evaluating arithmetic expressions in Python.\n"
   ]
  },
  {
   "cell_type": "markdown",
   "id": "65d2eb7f-084d-4ece-92c0-d3bcff1d2fe7",
   "metadata": {},
   "source": [
    "# This is a simple arithmetic expression to multiply then add integers\n"
   ]
  },
  {
   "cell_type": "code",
   "execution_count": 3,
   "id": "6372dd95-0a07-41d1-979f-26ebef7ae0f8",
   "metadata": {
    "tags": []
   },
   "outputs": [
    {
     "data": {
      "text/plain": [
       "17"
      ]
     },
     "execution_count": 3,
     "metadata": {},
     "output_type": "execute_result"
    }
   ],
   "source": [
    "(3*4) + 5"
   ]
  },
  {
   "cell_type": "markdown",
   "id": "d8456744-b7df-465f-95e9-bdcc141bf769",
   "metadata": {},
   "source": [
    "# This will convert 200 minutes to hours by dividing by 60\n"
   ]
  },
  {
   "cell_type": "code",
   "execution_count": 4,
   "id": "16fd5e6a-a455-472a-8672-12e96cde8595",
   "metadata": {
    "tags": []
   },
   "outputs": [
    {
     "data": {
      "text/plain": [
       "3.3333333333333335"
      ]
     },
     "execution_count": 4,
     "metadata": {},
     "output_type": "execute_result"
    }
   ],
   "source": [
    "200 / 60\n"
   ]
  },
  {
   "cell_type": "markdown",
   "id": "6c80bc94-208e-4c7c-9c61-57872ee747eb",
   "metadata": {
    "tags": []
   },
   "source": [
    "**Objectives:**\n",
    "- List popular languages for Data Science\n",
    "- Explore commonly used libraries\n",
    "- Understand arithmetic expression evaluation\n",
    "- Convert minutes to hours using Python\n",
    "- Summarize key takeaways from the course\n"
   ]
  },
  {
   "cell_type": "markdown",
   "id": "5626e591-7d75-4fe8-aa36-3e2b9c24409e",
   "metadata": {},
   "source": [
    "## Author\n",
    "Saad Khan\n"
   ]
  },
  {
   "cell_type": "code",
   "execution_count": null,
   "id": "4ee8ebf1-56e6-4113-a528-0ffbd487d8e5",
   "metadata": {},
   "outputs": [],
   "source": []
  }
 ],
 "metadata": {
  "kernelspec": {
   "display_name": "Python",
   "language": "python",
   "name": "conda-env-python-py"
  },
  "language_info": {
   "codemirror_mode": {
    "name": "ipython",
    "version": 3
   },
   "file_extension": ".py",
   "mimetype": "text/x-python",
   "name": "python",
   "nbconvert_exporter": "python",
   "pygments_lexer": "ipython3",
   "version": "3.7.12"
  }
 },
 "nbformat": 4,
 "nbformat_minor": 5
}
